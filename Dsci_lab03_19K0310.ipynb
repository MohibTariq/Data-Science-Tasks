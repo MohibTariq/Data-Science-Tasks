{
 "cells": [
  {
   "cell_type": "code",
   "execution_count": 1,
   "metadata": {},
   "outputs": [
    {
     "name": "stdout",
     "output_type": "stream",
     "text": [
      "      cities    provinces\n",
      "0    karachi        sindh\n",
      "1     lahore       punjab\n",
      "2  islamabad      capital\n",
      "3   peshawar          KPK\n",
      "4     quetta  Balochistan\n"
     ]
    }
   ],
   "source": [
    "#Task 1\n",
    "import pandas as pd\n",
    "data = {'cities' : ['lahore','karachi',], 'provinces' : ['punjab','sindh']}\n",
    "# store data as DataFrame object. Assign object name as frame1\n",
    "frame1 = pd.DataFrame(data)\n",
    "# print frame\n",
    "# print(frame1)\n",
    "data2 = {\"cities\": [\"islamabad\",\"karachi\",\"peshawar\",\"quetta\"],\n",
    "\"provinces\": [\"capital\",\"sindh\", \"KPK\",\"Balochistan\"]}\n",
    "# store data as DataFrame object. Assign object name as frame2\n",
    "frame2=pd.DataFrame(data2)\n",
    "# combine both objects frame1 and frame2; without any duplicate rows and re-arrange all\n",
    "# indexes\n",
    "frame3 = pd.concat([frame1,frame2])# combine frame1 and frame2\n",
    "frame3 = frame3.drop_duplicates(keep= 'first',inplace= False) # remove duplicates rows\n",
    "frame3 = frame3.sort_values(by='provinces', ascending=False).head()  # sort based on provinces\n",
    "frame3= frame3.reset_index(drop=True) # re-arrange all indexes\n",
    "print(frame3) # print frame3"
   ]
  },
  {
   "cell_type": "code",
   "execution_count": 2,
   "metadata": {},
   "outputs": [
    {
     "name": "stdout",
     "output_type": "stream",
     "text": [
      "    Name Field Age Marks\n",
      "0            C       -90\n",
      "1    Ali     E        60\n",
      "2  Ahmed     E       -10\n",
      "3   Nida     C        70\n",
      "4            C        75\n"
     ]
    }
   ],
   "source": [
    "#Task 2\n",
    "table={'Name':['','Ali','Ahmed','Nida',''],'Field': ['C','E','E','C','C'],'Age':['','','','',''],'Marks':['-90','60','-10','70','75']}\n",
    "\n",
    "# dtable=dtable['Name','Field','Age','Marks']\n",
    "df = pd.DataFrame(table) \n",
    "print(df)\n"
   ]
  },
  {
   "cell_type": "code",
   "execution_count": null,
   "metadata": {},
   "outputs": [],
   "source": []
  },
  {
   "cell_type": "code",
   "execution_count": null,
   "metadata": {},
   "outputs": [],
   "source": []
  }
 ],
 "metadata": {
  "kernelspec": {
   "display_name": "Python 3",
   "language": "python",
   "name": "python3"
  },
  "language_info": {
   "codemirror_mode": {
    "name": "ipython",
    "version": 3
   },
   "file_extension": ".py",
   "mimetype": "text/x-python",
   "name": "python",
   "nbconvert_exporter": "python",
   "pygments_lexer": "ipython3",
   "version": "3.8.5"
  }
 },
 "nbformat": 4,
 "nbformat_minor": 4
}
