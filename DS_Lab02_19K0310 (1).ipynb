{
 "cells": [
  {
   "cell_type": "code",
   "execution_count": 13,
   "metadata": {},
   "outputs": [
    {
     "name": "stdout",
     "output_type": "stream",
     "text": [
      "   A    B  C\n",
      "0  1  2.0  3\n",
      "1  4  5.0  6\n",
      "4  2  NaN  5\n"
     ]
    }
   ],
   "source": [
    "#Data Science Lab02 19K-0310\n",
    "import pandas as pd\n",
    "df1= pd.read_csv('data\\data1.csv', index_col=0)\n",
    "print(df1)"
   ]
  },
  {
   "cell_type": "code",
   "execution_count": 14,
   "metadata": {},
   "outputs": [
    {
     "name": "stdout",
     "output_type": "stream",
     "text": [
      "       A  B  C\n",
      "2      2  5  6\n",
      "3  Hello  3  4\n"
     ]
    }
   ],
   "source": [
    "import pandas as pd\n",
    "df2= pd.read_csv('data\\data2.csv', index_col=1)\n",
    "print(df2)\n"
   ]
  },
  {
   "cell_type": "code",
   "execution_count": 15,
   "metadata": {},
   "outputs": [],
   "source": [
    "frames = [df1, df2]\n",
    "\n",
    "df3 = pd.concat(frames)"
   ]
  },
  {
   "cell_type": "code",
   "execution_count": 16,
   "metadata": {},
   "outputs": [
    {
     "name": "stdout",
     "output_type": "stream",
     "text": [
      "       A    B  C\n",
      "0      1  2.0  3\n",
      "1      4  5.0  6\n",
      "4      2  NaN  5\n",
      "2      2  5.0  6\n",
      "3  Hello  3.0  4\n"
     ]
    }
   ],
   "source": [
    "print(df3)"
   ]
  },
  {
   "cell_type": "code",
   "execution_count": 17,
   "metadata": {},
   "outputs": [
    {
     "name": "stdout",
     "output_type": "stream",
     "text": [
      "   D  E\n",
      "1  1  7\n",
      "4  0  8\n"
     ]
    }
   ],
   "source": [
    "df4= pd.read_csv('data\\data3.csv', index_col=0)\n",
    "print(df4)"
   ]
  },
  {
   "cell_type": "code",
   "execution_count": 34,
   "metadata": {},
   "outputs": [],
   "source": [
    "# frames2=[df3,df4]\n",
    "# d5=pd.concat\n",
    "# df5=pd.merge(df3,df4,on=\"key\")\n",
    "df5=df3.append(df4)"
   ]
  },
  {
   "cell_type": "code",
   "execution_count": 35,
   "metadata": {},
   "outputs": [
    {
     "name": "stdout",
     "output_type": "stream",
     "text": [
      "       A    B    C    D    E\n",
      "0      1  2.0  3.0  NaN  NaN\n",
      "1      4  5.0  6.0  NaN  NaN\n",
      "4      2  NaN  5.0  NaN  NaN\n",
      "2      2  5.0  6.0  NaN  NaN\n",
      "3  Hello  3.0  4.0  NaN  NaN\n",
      "1    NaN  NaN  NaN  1.0  7.0\n",
      "4    NaN  NaN  NaN  0.0  8.0\n"
     ]
    }
   ],
   "source": [
    "print(d5)"
   ]
  },
  {
   "cell_type": "code",
   "execution_count": 38,
   "metadata": {},
   "outputs": [
    {
     "name": "stdout",
     "output_type": "stream",
     "text": [
      "    A  B\n",
      "0  11  9\n",
      "1  22  7\n",
      "2  33  8\n"
     ]
    }
   ],
   "source": [
    "df6= pd.read_json('data\\data.json')\n",
    "print(df6)"
   ]
  },
  {
   "cell_type": "code",
   "execution_count": 39,
   "metadata": {},
   "outputs": [],
   "source": [
    "df7 = pd.concat([df5,df6])"
   ]
  },
  {
   "cell_type": "code",
   "execution_count": 40,
   "metadata": {},
   "outputs": [
    {
     "name": "stdout",
     "output_type": "stream",
     "text": [
      "       A    B    C    D    E\n",
      "0      1  2.0  3.0  NaN  NaN\n",
      "1      4  5.0  6.0  NaN  NaN\n",
      "4      2  NaN  5.0  NaN  NaN\n",
      "2      2  5.0  6.0  NaN  NaN\n",
      "3  Hello  3.0  4.0  NaN  NaN\n",
      "1    NaN  NaN  NaN  1.0  7.0\n",
      "4    NaN  NaN  NaN  0.0  8.0\n",
      "0     11  9.0  NaN  NaN  NaN\n",
      "1     22  7.0  NaN  NaN  NaN\n",
      "2     33  8.0  NaN  NaN  NaN\n"
     ]
    }
   ],
   "source": [
    "print(df7)"
   ]
  },
  {
   "cell_type": "code",
   "execution_count": 42,
   "metadata": {},
   "outputs": [
    {
     "data": {
      "text/html": [
       "<div>\n",
       "<style scoped>\n",
       "    .dataframe tbody tr th:only-of-type {\n",
       "        vertical-align: middle;\n",
       "    }\n",
       "\n",
       "    .dataframe tbody tr th {\n",
       "        vertical-align: top;\n",
       "    }\n",
       "\n",
       "    .dataframe thead th {\n",
       "        text-align: right;\n",
       "    }\n",
       "</style>\n",
       "<table border=\"1\" class=\"dataframe\">\n",
       "  <thead>\n",
       "    <tr style=\"text-align: right;\">\n",
       "      <th></th>\n",
       "      <th>A</th>\n",
       "      <th>B</th>\n",
       "      <th>C</th>\n",
       "      <th>D</th>\n",
       "      <th>E</th>\n",
       "    </tr>\n",
       "  </thead>\n",
       "  <tbody>\n",
       "    <tr>\n",
       "      <th>0</th>\n",
       "      <td>1</td>\n",
       "      <td>2.0</td>\n",
       "      <td>3.0</td>\n",
       "      <td>NaN</td>\n",
       "      <td>NaN</td>\n",
       "    </tr>\n",
       "    <tr>\n",
       "      <th>1</th>\n",
       "      <td>4</td>\n",
       "      <td>5.0</td>\n",
       "      <td>6.0</td>\n",
       "      <td>NaN</td>\n",
       "      <td>NaN</td>\n",
       "    </tr>\n",
       "    <tr>\n",
       "      <th>4</th>\n",
       "      <td>2</td>\n",
       "      <td>NaN</td>\n",
       "      <td>5.0</td>\n",
       "      <td>NaN</td>\n",
       "      <td>NaN</td>\n",
       "    </tr>\n",
       "    <tr>\n",
       "      <th>2</th>\n",
       "      <td>2</td>\n",
       "      <td>5.0</td>\n",
       "      <td>6.0</td>\n",
       "      <td>NaN</td>\n",
       "      <td>NaN</td>\n",
       "    </tr>\n",
       "    <tr>\n",
       "      <th>3</th>\n",
       "      <td>NaN</td>\n",
       "      <td>3.0</td>\n",
       "      <td>4.0</td>\n",
       "      <td>NaN</td>\n",
       "      <td>NaN</td>\n",
       "    </tr>\n",
       "    <tr>\n",
       "      <th>1</th>\n",
       "      <td>NaN</td>\n",
       "      <td>NaN</td>\n",
       "      <td>NaN</td>\n",
       "      <td>1.0</td>\n",
       "      <td>7.0</td>\n",
       "    </tr>\n",
       "    <tr>\n",
       "      <th>4</th>\n",
       "      <td>NaN</td>\n",
       "      <td>NaN</td>\n",
       "      <td>NaN</td>\n",
       "      <td>0.0</td>\n",
       "      <td>8.0</td>\n",
       "    </tr>\n",
       "    <tr>\n",
       "      <th>0</th>\n",
       "      <td>11</td>\n",
       "      <td>9.0</td>\n",
       "      <td>NaN</td>\n",
       "      <td>NaN</td>\n",
       "      <td>NaN</td>\n",
       "    </tr>\n",
       "    <tr>\n",
       "      <th>1</th>\n",
       "      <td>22</td>\n",
       "      <td>7.0</td>\n",
       "      <td>NaN</td>\n",
       "      <td>NaN</td>\n",
       "      <td>NaN</td>\n",
       "    </tr>\n",
       "    <tr>\n",
       "      <th>2</th>\n",
       "      <td>33</td>\n",
       "      <td>8.0</td>\n",
       "      <td>NaN</td>\n",
       "      <td>NaN</td>\n",
       "      <td>NaN</td>\n",
       "    </tr>\n",
       "  </tbody>\n",
       "</table>\n",
       "</div>"
      ],
      "text/plain": [
       "     A    B    C    D    E\n",
       "0    1  2.0  3.0  NaN  NaN\n",
       "1    4  5.0  6.0  NaN  NaN\n",
       "4    2  NaN  5.0  NaN  NaN\n",
       "2    2  5.0  6.0  NaN  NaN\n",
       "3  NaN  3.0  4.0  NaN  NaN\n",
       "1  NaN  NaN  NaN  1.0  7.0\n",
       "4  NaN  NaN  NaN  0.0  8.0\n",
       "0   11  9.0  NaN  NaN  NaN\n",
       "1   22  7.0  NaN  NaN  NaN\n",
       "2   33  8.0  NaN  NaN  NaN"
      ]
     },
     "execution_count": 42,
     "metadata": {},
     "output_type": "execute_result"
    }
   ],
   "source": [
    "df7.replace(to_replace=\"Hello\",value=\"NaN\")"
   ]
  },
  {
   "cell_type": "code",
   "execution_count": 43,
   "metadata": {},
   "outputs": [],
   "source": [
    "column_means = df7.mean()\n",
    "df = df7.fillna(column_means)"
   ]
  },
  {
   "cell_type": "code",
   "execution_count": 44,
   "metadata": {},
   "outputs": [
    {
     "name": "stdout",
     "output_type": "stream",
     "text": [
      "       A         B    C    D    E\n",
      "0      1  2.000000  3.0  0.5  7.5\n",
      "1      4  5.000000  6.0  0.5  7.5\n",
      "4      2  5.571429  5.0  0.5  7.5\n",
      "2      2  5.000000  6.0  0.5  7.5\n",
      "3  Hello  3.000000  4.0  0.5  7.5\n",
      "1    NaN  5.571429  4.8  1.0  7.0\n",
      "4    NaN  5.571429  4.8  0.0  8.0\n",
      "0     11  9.000000  4.8  0.5  7.5\n",
      "1     22  7.000000  4.8  0.5  7.5\n",
      "2     33  8.000000  4.8  0.5  7.5\n"
     ]
    }
   ],
   "source": [
    "print(df)"
   ]
  },
  {
   "cell_type": "code",
   "execution_count": 47,
   "metadata": {},
   "outputs": [],
   "source": [
    "df.to_csv('newdata.csv')"
   ]
  },
  {
   "cell_type": "code",
   "execution_count": null,
   "metadata": {},
   "outputs": [],
   "source": []
  }
 ],
 "metadata": {
  "kernelspec": {
   "display_name": "Python 3",
   "language": "python",
   "name": "python3"
  },
  "language_info": {
   "codemirror_mode": {
    "name": "ipython",
    "version": 3
   },
   "file_extension": ".py",
   "mimetype": "text/x-python",
   "name": "python",
   "nbconvert_exporter": "python",
   "pygments_lexer": "ipython3",
   "version": "3.8.5"
  }
 },
 "nbformat": 4,
 "nbformat_minor": 4
}
