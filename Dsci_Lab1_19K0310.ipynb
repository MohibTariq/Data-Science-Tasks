{
 "cells": [
  {
   "cell_type": "code",
   "execution_count": 4,
   "metadata": {},
   "outputs": [
    {
     "name": "stdout",
     "output_type": "stream",
     "text": [
      "Enter b4\n",
      "Enter a-2\n",
      "Enter c6\n",
      "-6.0\n",
      "-2.0\n"
     ]
    }
   ],
   "source": [
    "#task_2\n",
    "# Determinant D of a quadratic equation is defined as\n",
    "# b 4ac\n",
    "# 2\n",
    "#  . Write a program in python\n",
    "# that takes three inputs a, b, and c from the user. Then calculate Determinant D and print\n",
    "# it. Then find the real roots according to following three cases.\n",
    "# a. If D is positive, then print the following two real roots\n",
    "# b. If D is 0, then print only one real root,\n",
    "# If D is negative, then print “Only complex roots!”\n",
    "\n",
    "import math\n",
    "\n",
    "b=int(input(\"Enter b\"))\n",
    "a=int(input(\"Enter a\"))\n",
    "c=int(input(\"Enter c\"))\n",
    "\n",
    "determinant=pow(b,2) - (4*a*c)\n",
    "x1= (-1*b) + (math.sqrt(determinant)/(2*a))\n",
    "x2= (-1*b) - (math.sqrt(determinant)/(2*a))\n",
    "\n",
    "if(determinant>0):\n",
    "    print(x1)\n",
    "    print(x2)\n",
    "    \n",
    "else:\n",
    "    print(-b/(2*a))"
   ]
  },
  {
   "cell_type": "code",
   "execution_count": 47,
   "metadata": {},
   "outputs": [
    {
     "name": "stdout",
     "output_type": "stream",
     "text": [
      "23  <  43\n",
      "28  <  43\n",
      "20  <  43\n",
      "12  <  43\n"
     ]
    }
   ],
   "source": [
    "#task_3\n",
    "\n",
    "def smaller(x,s,num):\n",
    "   \n",
    "    for i in range(0,s):\n",
    "        if(x[i]<num):\n",
    "           \n",
    "            print(x[i], \" < \" , num)\n",
    "        \n",
    "        i=i+1\n",
    "        \n",
    "        \n",
    "array=[23,78,54,56,28,43,20,12]\n",
    "\n",
    "\n",
    "smaller(array,len(array),43)\n",
    "    \n",
    "    \n",
    "    "
   ]
  },
  {
   "cell_type": "code",
   "execution_count": 40,
   "metadata": {},
   "outputs": [
    {
     "name": "stdout",
     "output_type": "stream",
     "text": [
      "[12, 89, 12, 47, 35, 2]\n"
     ]
    }
   ],
   "source": [
    "#task_4\n",
    "\n",
    "arrayy = [35,12,89,2,12,47,35,2]\n",
    "\n",
    "\n",
    "for i in arrayy:\n",
    "\n",
    "\n",
    "    if arrayy.count(i) > 1: \n",
    "             arrayy.remove(i)\n",
    "\n",
    "\n",
    "print(arrayy)\n",
    "\n",
    "\n"
   ]
  },
  {
   "cell_type": "code",
   "execution_count": 37,
   "metadata": {},
   "outputs": [
    {
     "name": "stdout",
     "output_type": "stream",
     "text": [
      "The intersection of both the arrays is : \n",
      "{67, 23}\n"
     ]
    }
   ],
   "source": [
    "#task_5\n",
    "array1 = [2,3,67,87,23]\n",
    "array2 = [45,13,6,90,67,23]\n",
    "\n",
    "#converting arrays into sets\n",
    "\n",
    "set1= set(array1)\n",
    "set2= set(array2)\n",
    "\n",
    "common = set1 & set2\n",
    "\n",
    "print(\"The intersection of both the arrays is : \")\n",
    "print(common)\n"
   ]
  },
  {
   "cell_type": "code",
   "execution_count": 3,
   "metadata": {},
   "outputs": [
    {
     "name": "stdout",
     "output_type": "stream",
     "text": [
      "Enter your weight : 70\n",
      "Enter your height : 62\n",
      "Your BMI is :  0.018210197710718003\n"
     ]
    }
   ],
   "source": [
    "#task_6\n",
    "weight = int(input(\"Enter your weight : \"))\n",
    "height= int(input(\"Enter your height : \"))\n",
    "\n",
    "BMI = weight / height**2\n",
    "\n",
    "print(\"Your BMI is : \",BMI)"
   ]
  },
  {
   "cell_type": "code",
   "execution_count": 4,
   "metadata": {},
   "outputs": [
    {
     "name": "stdout",
     "output_type": "stream",
     "text": [
      "Amount after 7 years is :  144321.58910000004\n"
     ]
    }
   ],
   "source": [
    "#task_7\n",
    "growth_multiplier = 1.3\n",
    "sales= 23000\n",
    "num_of_years = 7\n",
    "\n",
    "amount_later = sales * 1.3**num_of_years\n",
    "\n",
    "print(\"Amount after 7 years is : \",amount_later)\n"
   ]
  },
  {
   "cell_type": "code",
   "execution_count": 5,
   "metadata": {},
   "outputs": [
    {
     "name": "stdout",
     "output_type": "stream",
     "text": [
      "Enter the mass : 45\n",
      "7.071428571428572\n"
     ]
    }
   ],
   "source": [
    "#task_8\n",
    "M_kg= int(input(\"Enter the mass : \"))\n",
    "\n",
    "M_stone= (M_kg * 2.2) / 14\n",
    "\n",
    "print(M_stone)\n"
   ]
  },
  {
   "cell_type": "code",
   "execution_count": 35,
   "metadata": {},
   "outputs": [
    {
     "name": "stdout",
     "output_type": "stream",
     "text": [
      "['R 1', 'hall 11.3', 'kitchen 6', 'bedroom 12.5']\n"
     ]
    }
   ],
   "source": [
    "#task_9\n",
    "home=[\"R 1\"]\n",
    "home=home + [\"hall 11.3\"] + [\"kitchen 6\"] + [\"bedroom 12.5\"]\n",
    "print(home)\n"
   ]
  },
  {
   "cell_type": "code",
   "execution_count": 34,
   "metadata": {},
   "outputs": [
    {
     "name": "stdout",
     "output_type": "stream",
     "text": [
      "Enter name of 1st Student : Mohib\n",
      "Enter GPA : 1\n",
      "Enter GPA : 2\n",
      "Enter GPA : 3\n",
      "Enter GPA : 4\n",
      "Enter GPA : 5\n",
      "Enter GPA : 6\n",
      "Enter name of 2nd Student : Usman\n",
      "Enter GPA : 8\n",
      "Enter GPA : 9\n",
      "Enter GPA : 6\n",
      "Enter GPA : 5\n",
      "Enter GPA : 4\n",
      "Enter GPA : 4\n",
      "Enter name of 3rd Student : Ali\n",
      "Enter GPA : 1\n",
      "Enter GPA : 56\n",
      "Enter GPA : 35\n",
      "Enter GPA : 78\n",
      "Enter GPA : 90\n",
      "Enter GPA : 65\n",
      "['Mohib', ['1', '2', '3', '4', '5', '6'], 'Mohib', ['8', '9', '6', '5', '4', '4'], 'Ali', ['1', '56', '35', '78', '90', '65']]\n"
     ]
    }
   ],
   "source": [
    "#task_10\n",
    "# Create a list Score that contains the GPA of a student in 6 semesters. Create 3 such students\n",
    "# and add them in new list call Students with the name of the student with it as well.\n",
    "\n",
    "Score=[]\n",
    "Score2=[]\n",
    "Score3=[]\n",
    "Students=[]\n",
    "\n",
    "\n",
    "student1= input(\"Enter name of 1st Student : \")\n",
    "Students.append(student1)\n",
    "\n",
    "for i in range(0,6):\n",
    "    gpa=input(\"Enter GPA : \")\n",
    "    \n",
    "    Score.append(gpa)\n",
    "\n",
    "Students.append(Score)\n",
    "\n",
    "\n",
    "student2= input(\"Enter name of 2nd Student : \")\n",
    "Students.append(student2)\n",
    "\n",
    "for i in range(0,6):\n",
    "    gpa=input(\"Enter GPA : \")\n",
    "    \n",
    "    Score2.append(gpa)\n",
    "    \n",
    "\n",
    "Students.append(Score2)\n",
    "\n",
    "student3= input(\"Enter name of 3rd Student : \")\n",
    "Students.append(student3)\n",
    "\n",
    "for i in range(0,6):\n",
    "    gpa=input(\"Enter GPA : \")\n",
    "    \n",
    "    Score3.append(gpa)\n",
    "    \n",
    "Students.append(Score3)\n",
    "\n",
    "print(Students)"
   ]
  },
  {
   "cell_type": "markdown",
   "metadata": {},
   "source": []
  }
 ],
 "metadata": {
  "kernelspec": {
   "display_name": "Python 3",
   "language": "python",
   "name": "python3"
  },
  "language_info": {
   "codemirror_mode": {
    "name": "ipython",
    "version": 3
   },
   "file_extension": ".py",
   "mimetype": "text/x-python",
   "name": "python",
   "nbconvert_exporter": "python",
   "pygments_lexer": "ipython3",
   "version": "3.8.5"
  }
 },
 "nbformat": 4,
 "nbformat_minor": 2
}
